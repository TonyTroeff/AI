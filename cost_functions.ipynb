{
 "cells": [
  {
   "cell_type": "markdown",
   "source": [
    "# MSE (Mean squared error)\n",
    "\n",
    "Measures the mean squared error (squared L2 norm)\n",
    "$l(x, y) = \\{ l_1, \\dots, l_n \\}^T, \\qquad l_i=(x_i-y_i)^2$\n",
    "\n",
    "# NLL (Negative log likelihood)\n",
    "\n",
    "$l(x, y) = \\{ l_1, \\dots, l_n \\}^T, \\qquad l_i=-w_{y_n}x_{n,y_n}, \\qquad w_c=weight[c] \\cdot 1 \\{ c \\ne ignore\\_index \\}$"
   ],
   "metadata": {
    "collapsed": false
   }
  }
 ],
 "metadata": {
  "kernelspec": {
   "display_name": "Python 3",
   "language": "python",
   "name": "python3"
  },
  "language_info": {
   "codemirror_mode": {
    "name": "ipython",
    "version": 2
   },
   "file_extension": ".py",
   "mimetype": "text/x-python",
   "name": "python",
   "nbconvert_exporter": "python",
   "pygments_lexer": "ipython2",
   "version": "2.7.6"
  }
 },
 "nbformat": 4,
 "nbformat_minor": 0
}
