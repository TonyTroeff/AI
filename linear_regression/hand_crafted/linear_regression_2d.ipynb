{
 "cells": [
  {
   "cell_type": "code",
   "execution_count": 1,
   "outputs": [],
   "source": [
    "from typing import Callable\n",
    "\n",
    "import torch\n",
    "import numpy\n",
    "import matplotlib.pyplot as plt\n",
    "\n",
    "from utilities import CostParameters, least_square_cost, ridge_cost"
   ],
   "metadata": {
    "collapsed": false,
    "ExecuteTime": {
     "end_time": "2023-10-02T17:47:18.035363600Z",
     "start_time": "2023-10-02T17:47:16.083235400Z"
    }
   }
  },
  {
   "cell_type": "code",
   "execution_count": 2,
   "outputs": [],
   "source": [
    "torch.set_default_dtype(torch.float64)\n",
    "if torch.cuda.is_available():\n",
    "    torch.set_default_device(\"cuda\")"
   ],
   "metadata": {
    "collapsed": false,
    "ExecuteTime": {
     "end_time": "2023-10-02T17:47:18.080100100Z",
     "start_time": "2023-10-02T17:47:18.037327200Z"
    }
   }
  },
  {
   "cell_type": "code",
   "execution_count": 3,
   "outputs": [],
   "source": [
    "TEST_DATA_SIZE = 100\n",
    "X = numpy.sort(numpy.random.rand(TEST_DATA_SIZE, 1), axis=0)\n",
    "Y = numpy.random.rand(TEST_DATA_SIZE, 1)"
   ],
   "metadata": {
    "collapsed": false,
    "ExecuteTime": {
     "end_time": "2023-10-02T17:47:18.091615Z",
     "start_time": "2023-10-02T17:47:18.070752700Z"
    }
   }
  },
  {
   "cell_type": "code",
   "execution_count": 4,
   "outputs": [],
   "source": [
    "input_layer = 1\n",
    "output_layer = 1\n",
    "learning_rate = 1e-5\n",
    "\n",
    "def train(hidden_layer: int, epochs: int, cost_func: Callable[[CostParameters], torch.Tensor], cost_func_name: str, print_debug_info: bool = False) -> None:\n",
    "    x_tensor = torch.tensor(X)\n",
    "    y_tensor = torch.tensor(Y)\n",
    "\n",
    "    weights_layer1 = torch.rand(input_layer, hidden_layer, requires_grad=True)\n",
    "    biases_layer1 = torch.rand(hidden_layer, requires_grad=True)\n",
    "    weights_layer2 = torch.rand(hidden_layer, output_layer, requires_grad=True)\n",
    "    biases_layer2 = torch.rand(output_layer, requires_grad=True)\n",
    "\n",
    "    def predict() -> torch.Tensor:\n",
    "        return (x_tensor @ weights_layer1 + biases_layer1) @ weights_layer2 + biases_layer2\n",
    "\n",
    "    for i in range(epochs):\n",
    "        predicted = predict()\n",
    "\n",
    "        cost_params = CostParameters(y_tensor, predicted, [weights_layer1, weights_layer2], [biases_layer1, biases_layer2])\n",
    "        loss = cost_func(cost_params)\n",
    "\n",
    "        if print_debug_info:\n",
    "            iteration_id = i + 1\n",
    "            if iteration_id % 500 == 0:\n",
    "                print(f\"Info at epoch #{iteration_id}:\")\n",
    "                print(f\"Loss: {loss.item()}\")\n",
    "\n",
    "        loss.backward()\n",
    "\n",
    "        with torch.no_grad():\n",
    "            weights_layer1 -= learning_rate * weights_layer1.grad\n",
    "            biases_layer1 -= learning_rate * biases_layer1.grad\n",
    "            weights_layer2 -= learning_rate * weights_layer2.grad\n",
    "            biases_layer2 -= learning_rate * biases_layer2.grad\n",
    "\n",
    "            weights_layer1.grad = None\n",
    "            biases_layer1.grad = None\n",
    "            weights_layer2.grad = None\n",
    "            biases_layer2.grad = None\n",
    "\n",
    "    final_prediction = numpy.array(predict().detach().cpu())\n",
    "\n",
    "    plt.title(f\"Training a 2D regression model with {hidden_layer} neurons within the hidden layer after {epochs} epochs\")\n",
    "    plt.scatter(X, Y)\n",
    "    plt.plot(X, final_prediction)\n",
    "\n",
    "    plt.savefig(f\"plots/linear_regression_2d_{hidden_layer}_{epochs}_{cost_func_name}.png\", bbox_inches='tight')\n",
    "    plt.close()"
   ],
   "metadata": {
    "collapsed": false,
    "ExecuteTime": {
     "end_time": "2023-10-02T17:47:18.102137Z",
     "start_time": "2023-10-02T17:47:18.091615Z"
    }
   }
  },
  {
   "cell_type": "code",
   "execution_count": 5,
   "outputs": [
    {
     "name": "stdout",
     "output_type": "stream",
     "text": [
      "Info at epoch #500:\n",
      "Loss: 10.080791952455073\n",
      "Info at epoch #1000:\n",
      "Loss: 10.016561102175556\n",
      "Info at epoch #1500:\n",
      "Loss: 9.965180723536829\n",
      "Info at epoch #2000:\n",
      "Loss: 9.918633781585136\n",
      "Info at epoch #2500:\n",
      "Loss: 9.876210741415413\n",
      "Info at epoch #3000:\n",
      "Loss: 9.837432131664936\n",
      "Info at epoch #3500:\n",
      "Loss: 9.801888483083616\n",
      "Info at epoch #4000:\n",
      "Loss: 9.7692263981695\n",
      "Info at epoch #4500:\n",
      "Loss: 9.739139550172796\n",
      "Info at epoch #5000:\n",
      "Loss: 9.711361347036622\n"
     ]
    }
   ],
   "source": [
    "train(1, 5_000, least_square_cost, \"lsc\", print_debug_info=True)"
   ],
   "metadata": {
    "collapsed": false,
    "ExecuteTime": {
     "end_time": "2023-10-02T17:47:26.975350700Z",
     "start_time": "2023-10-02T17:47:18.104137300Z"
    }
   }
  },
  {
   "cell_type": "markdown",
   "source": [
    "![Linear regression 2D model with 1 hidden neuron and 5000 epochs](./plots/linear_regression_2d_1_5000_lsc.png)"
   ],
   "metadata": {
    "collapsed": false
   }
  },
  {
   "cell_type": "code",
   "execution_count": 6,
   "outputs": [
    {
     "name": "stdout",
     "output_type": "stream",
     "text": [
      "Info at epoch #500:\n",
      "Loss: 10.7202007062715\n",
      "Info at epoch #1000:\n",
      "Loss: 10.246823283458669\n",
      "Info at epoch #1500:\n",
      "Loss: 9.919855997285646\n",
      "Info at epoch #2000:\n",
      "Loss: 9.693683593699967\n",
      "Info at epoch #2500:\n",
      "Loss: 9.537242290114111\n",
      "Info at epoch #3000:\n",
      "Loss: 9.429133364813875\n",
      "Info at epoch #3500:\n",
      "Loss: 9.354527330259593\n",
      "Info at epoch #4000:\n",
      "Loss: 9.303121992168268\n",
      "Info at epoch #4500:\n",
      "Loss: 9.26775852671381\n",
      "Info at epoch #5000:\n",
      "Loss: 9.24346752067375\n"
     ]
    }
   ],
   "source": [
    "train(10, 5_000, least_square_cost, \"lsc\", print_debug_info=True)"
   ],
   "metadata": {
    "collapsed": false,
    "ExecuteTime": {
     "end_time": "2023-10-02T17:47:34.449306600Z",
     "start_time": "2023-10-02T17:47:26.978351200Z"
    }
   }
  },
  {
   "cell_type": "markdown",
   "source": [
    "![Linear regression 2D model with 10 hidden neuron and 5000 epochs](./plots/linear_regression_2d_10_5000_lsc.png)"
   ],
   "metadata": {
    "collapsed": false
   }
  },
  {
   "cell_type": "code",
   "execution_count": 7,
   "outputs": [
    {
     "name": "stdout",
     "output_type": "stream",
     "text": [
      "Info at epoch #500:\n",
      "Loss: 12.352032354564283\n",
      "Info at epoch #1000:\n",
      "Loss: 9.312027855239267\n",
      "Info at epoch #1500:\n",
      "Loss: 9.195409519734492\n",
      "Info at epoch #2000:\n",
      "Loss: 9.190939667449081\n",
      "Info at epoch #2500:\n",
      "Loss: 9.190768415499107\n",
      "Info at epoch #3000:\n",
      "Loss: 9.190761854989692\n",
      "Info at epoch #3500:\n",
      "Loss: 9.190761603667088\n",
      "Info at epoch #4000:\n",
      "Loss: 9.190761594039362\n",
      "Info at epoch #4500:\n",
      "Loss: 9.190761593670539\n",
      "Info at epoch #5000:\n",
      "Loss: 9.190761593656413\n"
     ]
    }
   ],
   "source": [
    "train(100, 5_000, least_square_cost, \"lsc\", print_debug_info=True)"
   ],
   "metadata": {
    "collapsed": false,
    "ExecuteTime": {
     "end_time": "2023-10-02T17:47:41.734104700Z",
     "start_time": "2023-10-02T17:47:34.451351900Z"
    }
   }
  },
  {
   "cell_type": "markdown",
   "source": [
    "![Linear regression 2D model with 100 hidden neuron and 5000 epochs](./plots/linear_regression_2d_100_5000_lsc.png)"
   ],
   "metadata": {
    "collapsed": false
   }
  },
  {
   "cell_type": "code",
   "execution_count": 8,
   "outputs": [
    {
     "name": "stdout",
     "output_type": "stream",
     "text": [
      "Info at epoch #500:\n",
      "Loss: 10.100892868166715\n",
      "Info at epoch #1000:\n",
      "Loss: 9.543229674925461\n",
      "Info at epoch #1500:\n",
      "Loss: 9.508770388422429\n",
      "Info at epoch #2000:\n",
      "Loss: 9.501523771441823\n",
      "Info at epoch #2500:\n",
      "Loss: 9.495882050413554\n",
      "Info at epoch #3000:\n",
      "Loss: 9.490499702423914\n",
      "Info at epoch #3500:\n",
      "Loss: 9.48529686760664\n",
      "Info at epoch #4000:\n",
      "Loss: 9.480260257525849\n",
      "Info at epoch #4500:\n",
      "Loss: 9.47560277379135\n",
      "Info at epoch #5000:\n",
      "Loss: 9.47393818643749\n"
     ]
    }
   ],
   "source": [
    "train(1, 5_000, ridge_cost(least_square_cost, 0.5), \"ridge+lsc\", print_debug_info=True)"
   ],
   "metadata": {
    "collapsed": false,
    "ExecuteTime": {
     "end_time": "2023-10-02T17:47:59.318199800Z",
     "start_time": "2023-10-02T17:47:41.737085500Z"
    }
   }
  },
  {
   "cell_type": "markdown",
   "source": [
    "![Linear regression 2D model with 1 hidden neuron and 5000 epochs](./plots/linear_regression_2d_1_5000_ridge+lsc.png)"
   ],
   "metadata": {
    "collapsed": false
   }
  },
  {
   "cell_type": "code",
   "execution_count": 9,
   "outputs": [
    {
     "name": "stdout",
     "output_type": "stream",
     "text": [
      "Info at epoch #500:\n",
      "Loss: 12.489515030353527\n",
      "Info at epoch #1000:\n",
      "Loss: 11.7808091618845\n",
      "Info at epoch #1500:\n",
      "Loss: 11.356283078722818\n",
      "Info at epoch #2000:\n",
      "Loss: 11.099797492431005\n",
      "Info at epoch #2500:\n",
      "Loss: 10.94378993693739\n",
      "Info at epoch #3000:\n",
      "Loss: 10.84825997540173\n",
      "Info at epoch #3500:\n",
      "Loss: 10.789277232137055\n",
      "Info at epoch #4000:\n",
      "Loss: 10.752436505781827\n",
      "Info at epoch #4500:\n",
      "Loss: 10.72903395284979\n",
      "Info at epoch #5000:\n",
      "Loss: 10.713798126177531\n"
     ]
    }
   ],
   "source": [
    "train(10, 5_000, ridge_cost(least_square_cost, 0.5), \"ridge+lsc\", print_debug_info=True)"
   ],
   "metadata": {
    "collapsed": false,
    "ExecuteTime": {
     "end_time": "2023-10-02T17:48:16.033472200Z",
     "start_time": "2023-10-02T17:47:59.321724300Z"
    }
   }
  },
  {
   "cell_type": "markdown",
   "source": [
    "![Linear regression 2D model with 10 hidden neuron and 5000 epochs](./plots/linear_regression_2d_10_5000_ridge+lsc.png)"
   ],
   "metadata": {
    "collapsed": false
   }
  },
  {
   "cell_type": "code",
   "execution_count": 10,
   "outputs": [
    {
     "name": "stdout",
     "output_type": "stream",
     "text": [
      "Info at epoch #500:\n",
      "Loss: 14.307892696231429\n",
      "Info at epoch #1000:\n",
      "Loss: 13.820984962128295\n",
      "Info at epoch #1500:\n",
      "Loss: 13.809672092232843\n",
      "Info at epoch #2000:\n",
      "Loss: 13.807011868720537\n",
      "Info at epoch #2500:\n",
      "Loss: 13.804509618641731\n",
      "Info at epoch #3000:\n",
      "Loss: 13.802010265322103\n",
      "Info at epoch #3500:\n",
      "Loss: 13.799510966483803\n",
      "Info at epoch #4000:\n",
      "Loss: 13.797011669865586\n",
      "Info at epoch #4500:\n",
      "Loss: 13.794512374511683\n",
      "Info at epoch #5000:\n",
      "Loss: 13.792013080408069\n"
     ]
    }
   ],
   "source": [
    "train(100, 5_000, ridge_cost(least_square_cost, 0.5), \"ridge+lsc\", print_debug_info=True)"
   ],
   "metadata": {
    "collapsed": false,
    "ExecuteTime": {
     "end_time": "2023-10-02T17:48:36.285896800Z",
     "start_time": "2023-10-02T17:48:16.035436400Z"
    }
   }
  },
  {
   "cell_type": "markdown",
   "source": [
    "![Linear regression 2D model with 100 hidden neuron and 5000 epochs](./plots/linear_regression_2d_100_5000_ridge+lsc.png)"
   ],
   "metadata": {
    "collapsed": false
   }
  }
 ],
 "metadata": {
  "kernelspec": {
   "display_name": "Python 3",
   "language": "python",
   "name": "python3"
  },
  "language_info": {
   "codemirror_mode": {
    "name": "ipython",
    "version": 2
   },
   "file_extension": ".py",
   "mimetype": "text/x-python",
   "name": "python",
   "nbconvert_exporter": "python",
   "pygments_lexer": "ipython2",
   "version": "2.7.6"
  }
 },
 "nbformat": 4,
 "nbformat_minor": 0
}
