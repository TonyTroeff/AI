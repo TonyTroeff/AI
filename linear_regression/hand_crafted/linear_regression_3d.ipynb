{
 "cells": [
  {
   "cell_type": "code",
   "execution_count": 1,
   "metadata": {
    "collapsed": true,
    "ExecuteTime": {
     "end_time": "2023-10-02T17:53:40.709909Z",
     "start_time": "2023-10-02T17:53:38.958281700Z"
    }
   },
   "outputs": [],
   "source": [
    "from typing import Callable\n",
    "\n",
    "import torch\n",
    "import numpy\n",
    "import matplotlib.pyplot as plt\n",
    "\n",
    "from utilities import CostParameters, least_square_cost, ridge_cost"
   ]
  },
  {
   "cell_type": "code",
   "execution_count": 2,
   "outputs": [],
   "source": [
    "torch.set_default_dtype(torch.float64)\n",
    "if torch.cuda.is_available():\n",
    "    torch.set_default_device(\"cuda\")"
   ],
   "metadata": {
    "collapsed": false,
    "ExecuteTime": {
     "end_time": "2023-10-02T17:53:40.753708800Z",
     "start_time": "2023-10-02T17:53:40.711912700Z"
    }
   }
  },
  {
   "cell_type": "code",
   "execution_count": 3,
   "outputs": [],
   "source": [
    "TEST_DATA_SIZE = 100\n",
    "X = numpy.sort(numpy.random.rand(TEST_DATA_SIZE, 1), axis=0)\n",
    "Y = numpy.random.rand(TEST_DATA_SIZE, 1)\n",
    "Z = numpy.random.rand(TEST_DATA_SIZE, 1)"
   ],
   "metadata": {
    "collapsed": false,
    "ExecuteTime": {
     "end_time": "2023-10-02T17:53:40.764248900Z",
     "start_time": "2023-10-02T17:53:40.743195700Z"
    }
   }
  },
  {
   "cell_type": "code",
   "execution_count": 4,
   "outputs": [],
   "source": [
    "input_layer = 2\n",
    "output_layer = 1\n",
    "learning_rate = 1e-5\n",
    "\n",
    "def train(hidden_layer: int, epochs: int, cost_func: Callable[[CostParameters], torch.Tensor], cost_func_name: str, print_debug_info: bool = False) -> None:\n",
    "    x_tensor = torch.tensor(numpy.concatenate((X, Y), axis=1))\n",
    "    y_tensor = torch.tensor(Z)\n",
    "\n",
    "    weights_layer1 = torch.rand(input_layer, hidden_layer, requires_grad=True)\n",
    "    biases_layer1 = torch.rand(hidden_layer, requires_grad=True)\n",
    "    weights_layer2 = torch.rand(hidden_layer, output_layer, requires_grad=True)\n",
    "    biases_layer2 = torch.rand(output_layer, requires_grad=True)\n",
    "\n",
    "    def predict() -> torch.Tensor:\n",
    "        return (x_tensor @ weights_layer1 + biases_layer1) @ weights_layer2 + biases_layer2\n",
    "\n",
    "    for i in range(epochs):\n",
    "        predicted = predict()\n",
    "\n",
    "        cost_params = CostParameters(y_tensor, predicted, [weights_layer1, weights_layer2], [biases_layer1, biases_layer2])\n",
    "        loss = cost_func(cost_params)\n",
    "\n",
    "        if print_debug_info:\n",
    "            iteration_id = i + 1\n",
    "            if iteration_id % 500 == 0:\n",
    "                print(f\"Info at epoch #{iteration_id}:\")\n",
    "                print(f\"Loss: {loss.item()}\")\n",
    "\n",
    "        loss.backward()\n",
    "\n",
    "        with torch.no_grad():\n",
    "            weights_layer1 -= learning_rate * weights_layer1.grad\n",
    "            biases_layer1 -= learning_rate * biases_layer1.grad\n",
    "            weights_layer2 -= learning_rate * weights_layer2.grad\n",
    "            biases_layer2 -= learning_rate * biases_layer2.grad\n",
    "\n",
    "            weights_layer1.grad = None\n",
    "            biases_layer1.grad = None\n",
    "            weights_layer2.grad = None\n",
    "            biases_layer2.grad = None\n",
    "\n",
    "    final_prediction = numpy.array(predict().detach().cpu())\n",
    "\n",
    "    sub_plot = plt.figure().add_subplot(projection=\"3d\")\n",
    "    sub_plot.set_title(f\"Training a 3D regression model with {hidden_layer} neurons within the hidden layer after {epochs} epochs\")\n",
    "\n",
    "    sub_plot.plot_trisurf(X.reshape(TEST_DATA_SIZE), Y.reshape(TEST_DATA_SIZE), final_prediction.reshape(TEST_DATA_SIZE), color=\"g\", alpha=0.6)\n",
    "    sub_plot.scatter(X, Y, Z)\n",
    "\n",
    "    plt.savefig(f\"plots/linear_regression_3d_{hidden_layer}_{epochs}_{cost_func_name}.png\", bbox_inches='tight')\n",
    "    plt.close()"
   ],
   "metadata": {
    "collapsed": false,
    "ExecuteTime": {
     "end_time": "2023-10-02T17:53:40.772875900Z",
     "start_time": "2023-10-02T17:53:40.766257600Z"
    }
   }
  },
  {
   "cell_type": "code",
   "execution_count": 5,
   "outputs": [
    {
     "name": "stdout",
     "output_type": "stream",
     "text": [
      "Info at epoch #500:\n",
      "Loss: 8.44112511169628\n",
      "Info at epoch #1000:\n",
      "Loss: 8.336761062221651\n",
      "Info at epoch #1500:\n",
      "Loss: 8.311240155163272\n",
      "Info at epoch #2000:\n",
      "Loss: 8.28867621794765\n",
      "Info at epoch #2500:\n",
      "Loss: 8.267530985649843\n",
      "Info at epoch #3000:\n",
      "Loss: 8.247664488501211\n",
      "Info at epoch #3500:\n",
      "Loss: 8.22897432488051\n",
      "Info at epoch #4000:\n",
      "Loss: 8.211368502078075\n",
      "Info at epoch #4500:\n",
      "Loss: 8.194763852655784\n",
      "Info at epoch #5000:\n",
      "Loss: 8.17908503082807\n"
     ]
    }
   ],
   "source": [
    "train(1, 5_000, least_square_cost, \"lsc\", print_debug_info=True)"
   ],
   "metadata": {
    "collapsed": false,
    "ExecuteTime": {
     "end_time": "2023-10-02T17:53:50.950474Z",
     "start_time": "2023-10-02T17:53:40.775820500Z"
    }
   }
  },
  {
   "cell_type": "markdown",
   "source": [
    "![Linear regression 3D model with 1 hidden neuron and 5000 epochs](./plots/linear_regression_3d_1_5000_lsc.png)"
   ],
   "metadata": {
    "collapsed": false
   }
  },
  {
   "cell_type": "code",
   "execution_count": 6,
   "outputs": [
    {
     "name": "stdout",
     "output_type": "stream",
     "text": [
      "Info at epoch #500:\n",
      "Loss: 10.417270640661464\n",
      "Info at epoch #1000:\n",
      "Loss: 9.583224863334525\n",
      "Info at epoch #1500:\n",
      "Loss: 9.003601615682273\n",
      "Info at epoch #2000:\n",
      "Loss: 8.595143032040271\n",
      "Info at epoch #2500:\n",
      "Loss: 8.304408147965058\n",
      "Info at epoch #3000:\n",
      "Loss: 8.09596212578579\n",
      "Info at epoch #3500:\n",
      "Loss: 7.945723544461366\n",
      "Info at epoch #4000:\n",
      "Loss: 7.8370194927169825\n",
      "Info at epoch #4500:\n",
      "Loss: 7.758144013702089\n",
      "Info at epoch #5000:\n",
      "Loss: 7.700792134574388\n"
     ]
    }
   ],
   "source": [
    "train(10, 5_000, least_square_cost, \"lsc\", print_debug_info=True)"
   ],
   "metadata": {
    "collapsed": false,
    "ExecuteTime": {
     "end_time": "2023-10-02T17:53:57.359932200Z",
     "start_time": "2023-10-02T17:53:50.954440400Z"
    }
   }
  },
  {
   "cell_type": "markdown",
   "source": [
    "![Linear regression 3D model with 10 hidden neuron and 5000 epochs](./plots/linear_regression_3d_10_5000_lsc.png)"
   ],
   "metadata": {
    "collapsed": false
   }
  },
  {
   "cell_type": "code",
   "execution_count": 7,
   "outputs": [
    {
     "name": "stdout",
     "output_type": "stream",
     "text": [
      "Info at epoch #500:\n",
      "Loss: 9.994999001466187\n",
      "Info at epoch #1000:\n",
      "Loss: 7.657365530900432\n",
      "Info at epoch #1500:\n",
      "Loss: 7.552061725988223\n",
      "Info at epoch #2000:\n",
      "Loss: 7.546373240467762\n",
      "Info at epoch #2500:\n",
      "Loss: 7.546053634457682\n",
      "Info at epoch #3000:\n",
      "Loss: 7.546035543883368\n",
      "Info at epoch #3500:\n",
      "Loss: 7.546034518516761\n",
      "Info at epoch #4000:\n",
      "Loss: 7.546034460385048\n",
      "Info at epoch #4500:\n",
      "Loss: 7.546034457089201\n",
      "Info at epoch #5000:\n",
      "Loss: 7.5460344569023405\n"
     ]
    }
   ],
   "source": [
    "train(100, 5_000, least_square_cost, \"lsc\", print_debug_info=True)"
   ],
   "metadata": {
    "collapsed": false,
    "ExecuteTime": {
     "end_time": "2023-10-02T17:54:03.865101500Z",
     "start_time": "2023-10-02T17:53:57.361915Z"
    }
   }
  },
  {
   "cell_type": "markdown",
   "source": [
    "![Linear regression 3D model with 100 hidden neuron and 5000 epochs](./plots/linear_regression_3d_100_5000_lsc.png)"
   ],
   "metadata": {
    "collapsed": false
   }
  },
  {
   "cell_type": "code",
   "execution_count": 8,
   "outputs": [
    {
     "name": "stdout",
     "output_type": "stream",
     "text": [
      "Info at epoch #500:\n",
      "Loss: 8.366360440461763\n",
      "Info at epoch #1000:\n",
      "Loss: 8.214376448000761\n",
      "Info at epoch #1500:\n",
      "Loss: 8.193699162143636\n",
      "Info at epoch #2000:\n",
      "Loss: 8.177169266118932\n",
      "Info at epoch #2500:\n",
      "Loss: 8.162976687855464\n",
      "Info at epoch #3000:\n",
      "Loss: 8.150644795311079\n",
      "Info at epoch #3500:\n",
      "Loss: 8.139855253479881\n",
      "Info at epoch #4000:\n",
      "Loss: 8.130371607745356\n",
      "Info at epoch #4500:\n",
      "Loss: 8.122007632854977\n",
      "Info at epoch #5000:\n",
      "Loss: 8.114611124870041\n"
     ]
    }
   ],
   "source": [
    "train(1, 5_000, ridge_cost(least_square_cost, 0.5), \"ridge+lsc\", print_debug_info=True)"
   ],
   "metadata": {
    "collapsed": false,
    "ExecuteTime": {
     "end_time": "2023-10-02T17:54:20.910630900Z",
     "start_time": "2023-10-02T17:54:03.868106500Z"
    }
   }
  },
  {
   "cell_type": "markdown",
   "source": [
    "![Linear regression 3D model with 1 hidden neuron and 5000 epochs](./plots/linear_regression_3d_1_5000_ridge+lsc.png)"
   ],
   "metadata": {
    "collapsed": false
   }
  },
  {
   "cell_type": "code",
   "execution_count": 9,
   "outputs": [
    {
     "name": "stdout",
     "output_type": "stream",
     "text": [
      "Info at epoch #500:\n",
      "Loss: 16.618846123947968\n",
      "Info at epoch #1000:\n",
      "Loss: 14.155751850433887\n",
      "Info at epoch #1500:\n",
      "Loss: 12.55975848988581\n",
      "Info at epoch #2000:\n",
      "Loss: 11.505181517426934\n",
      "Info at epoch #2500:\n",
      "Loss: 10.79994010852194\n",
      "Info at epoch #3000:\n",
      "Loss: 10.324817737828445\n",
      "Info at epoch #3500:\n",
      "Loss: 10.003219424600974\n",
      "Info at epoch #4000:\n",
      "Loss: 9.784816166164296\n",
      "Info at epoch #4500:\n",
      "Loss: 9.636072697131489\n",
      "Info at epoch #5000:\n",
      "Loss: 9.534458172102852\n"
     ]
    }
   ],
   "source": [
    "train(10, 5_000, ridge_cost(least_square_cost, 0.5), \"ridge+lsc\", print_debug_info=True)"
   ],
   "metadata": {
    "collapsed": false,
    "ExecuteTime": {
     "end_time": "2023-10-02T17:54:38.726323200Z",
     "start_time": "2023-10-02T17:54:20.911635Z"
    }
   }
  },
  {
   "cell_type": "markdown",
   "source": [
    "![Linear regression 3D model with 10 hidden neuron and 5000 epochs](./plots/linear_regression_3d_10_5000_ridge+lsc.png)"
   ],
   "metadata": {
    "collapsed": false
   }
  },
  {
   "cell_type": "code",
   "execution_count": 10,
   "outputs": [
    {
     "name": "stdout",
     "output_type": "stream",
     "text": [
      "Info at epoch #500:\n",
      "Loss: 15.422140895928\n",
      "Info at epoch #1000:\n",
      "Loss: 13.004092408880584\n",
      "Info at epoch #1500:\n",
      "Loss: 12.894201506187418\n",
      "Info at epoch #2000:\n",
      "Loss: 12.88643261473776\n",
      "Info at epoch #2500:\n",
      "Loss: 12.883665420964299\n",
      "Info at epoch #3000:\n",
      "Loss: 12.881152008859303\n",
      "Info at epoch #3500:\n",
      "Loss: 12.87865163804749\n",
      "Info at epoch #4000:\n",
      "Loss: 12.876151941778994\n",
      "Info at epoch #4500:\n",
      "Loss: 12.873652281135488\n",
      "Info at epoch #5000:\n",
      "Loss: 12.871152623006394\n"
     ]
    }
   ],
   "source": [
    "train(100, 5_000, ridge_cost(least_square_cost, 0.5), \"ridge+lsc\", print_debug_info=True)"
   ],
   "metadata": {
    "collapsed": false,
    "ExecuteTime": {
     "end_time": "2023-10-02T17:55:02.997829300Z",
     "start_time": "2023-10-02T17:54:38.733863500Z"
    }
   }
  },
  {
   "cell_type": "markdown",
   "source": [
    "![Linear regression 3D model with 100 hidden neuron and 5000 epochs](./plots/linear_regression_3d_100_5000_ridge+lsc.png)"
   ],
   "metadata": {
    "collapsed": false
   }
  }
 ],
 "metadata": {
  "kernelspec": {
   "display_name": "Python 3",
   "language": "python",
   "name": "python3"
  },
  "language_info": {
   "codemirror_mode": {
    "name": "ipython",
    "version": 2
   },
   "file_extension": ".py",
   "mimetype": "text/x-python",
   "name": "python",
   "nbconvert_exporter": "python",
   "pygments_lexer": "ipython2",
   "version": "2.7.6"
  }
 },
 "nbformat": 4,
 "nbformat_minor": 0
}
