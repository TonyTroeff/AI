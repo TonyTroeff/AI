{
 "cells": [
  {
   "cell_type": "code",
   "execution_count": 1,
   "metadata": {
    "collapsed": true,
    "ExecuteTime": {
     "end_time": "2023-08-08T19:44:50.295190300Z",
     "start_time": "2023-08-08T19:44:46.391983500Z"
    }
   },
   "outputs": [],
   "source": [
    "import sklearn.model_selection\n",
    "import torch\n",
    "import torch.utils.data as data_utils\n",
    "import matplotlib.pyplot as plt\n",
    "import seaborn\n",
    "import pandas\n",
    "import numpy"
   ]
  },
  {
   "cell_type": "code",
   "execution_count": 2,
   "outputs": [],
   "source": [
    "default_dtype = torch.float64\n",
    "torch.set_default_dtype(default_dtype)\n",
    "\n",
    "default_device = \"cpu\"\n",
    "if torch.cuda.is_available():\n",
    "    default_device = \"cuda\"\n",
    "\n",
    "torch.set_default_device(default_device)"
   ],
   "metadata": {
    "collapsed": false,
    "ExecuteTime": {
     "end_time": "2023-08-08T19:44:50.343738100Z",
     "start_time": "2023-08-08T19:44:50.334736600Z"
    }
   }
  },
  {
   "cell_type": "code",
   "execution_count": 3,
   "outputs": [
    {
     "data": {
      "text/plain": "                     season  holiday  workingday  weather  temp   atemp  \\\ndatetime                                                                  \n2011-01-01 00:00:00       1        0           0        1  9.84  14.395   \n2011-01-01 01:00:00       1        0           0        1  9.02  13.635   \n2011-01-01 02:00:00       1        0           0        1  9.02  13.635   \n2011-01-01 03:00:00       1        0           0        1  9.84  14.395   \n2011-01-01 04:00:00       1        0           0        1  9.84  14.395   \n\n                     humidity  windspeed  casual  registered  count  \ndatetime                                                             \n2011-01-01 00:00:00        81        0.0       3          13     16  \n2011-01-01 01:00:00        80        0.0       8          32     40  \n2011-01-01 02:00:00        80        0.0       5          27     32  \n2011-01-01 03:00:00        75        0.0       3          10     13  \n2011-01-01 04:00:00        75        0.0       0           1      1  ",
      "text/html": "<div>\n<style scoped>\n    .dataframe tbody tr th:only-of-type {\n        vertical-align: middle;\n    }\n\n    .dataframe tbody tr th {\n        vertical-align: top;\n    }\n\n    .dataframe thead th {\n        text-align: right;\n    }\n</style>\n<table border=\"1\" class=\"dataframe\">\n  <thead>\n    <tr style=\"text-align: right;\">\n      <th></th>\n      <th>season</th>\n      <th>holiday</th>\n      <th>workingday</th>\n      <th>weather</th>\n      <th>temp</th>\n      <th>atemp</th>\n      <th>humidity</th>\n      <th>windspeed</th>\n      <th>casual</th>\n      <th>registered</th>\n      <th>count</th>\n    </tr>\n    <tr>\n      <th>datetime</th>\n      <th></th>\n      <th></th>\n      <th></th>\n      <th></th>\n      <th></th>\n      <th></th>\n      <th></th>\n      <th></th>\n      <th></th>\n      <th></th>\n      <th></th>\n    </tr>\n  </thead>\n  <tbody>\n    <tr>\n      <th>2011-01-01 00:00:00</th>\n      <td>1</td>\n      <td>0</td>\n      <td>0</td>\n      <td>1</td>\n      <td>9.84</td>\n      <td>14.395</td>\n      <td>81</td>\n      <td>0.0</td>\n      <td>3</td>\n      <td>13</td>\n      <td>16</td>\n    </tr>\n    <tr>\n      <th>2011-01-01 01:00:00</th>\n      <td>1</td>\n      <td>0</td>\n      <td>0</td>\n      <td>1</td>\n      <td>9.02</td>\n      <td>13.635</td>\n      <td>80</td>\n      <td>0.0</td>\n      <td>8</td>\n      <td>32</td>\n      <td>40</td>\n    </tr>\n    <tr>\n      <th>2011-01-01 02:00:00</th>\n      <td>1</td>\n      <td>0</td>\n      <td>0</td>\n      <td>1</td>\n      <td>9.02</td>\n      <td>13.635</td>\n      <td>80</td>\n      <td>0.0</td>\n      <td>5</td>\n      <td>27</td>\n      <td>32</td>\n    </tr>\n    <tr>\n      <th>2011-01-01 03:00:00</th>\n      <td>1</td>\n      <td>0</td>\n      <td>0</td>\n      <td>1</td>\n      <td>9.84</td>\n      <td>14.395</td>\n      <td>75</td>\n      <td>0.0</td>\n      <td>3</td>\n      <td>10</td>\n      <td>13</td>\n    </tr>\n    <tr>\n      <th>2011-01-01 04:00:00</th>\n      <td>1</td>\n      <td>0</td>\n      <td>0</td>\n      <td>1</td>\n      <td>9.84</td>\n      <td>14.395</td>\n      <td>75</td>\n      <td>0.0</td>\n      <td>0</td>\n      <td>1</td>\n      <td>1</td>\n    </tr>\n  </tbody>\n</table>\n</div>"
     },
     "execution_count": 3,
     "metadata": {},
     "output_type": "execute_result"
    }
   ],
   "source": [
    "data = pandas.read_csv(\"../datasets/bikesharing.csv\", index_col=0)\n",
    "data.head()"
   ],
   "metadata": {
    "collapsed": false,
    "ExecuteTime": {
     "end_time": "2023-08-08T19:44:50.427739500Z",
     "start_time": "2023-08-08T19:44:50.344737400Z"
    }
   }
  },
  {
   "cell_type": "code",
   "execution_count": 4,
   "outputs": [],
   "source": [
    "figure, axs = plt.subplots(nrows=1, ncols=2, figsize=(10, 5))\n",
    "\n",
    "seaborn.barplot(x='season', y='count', hue='weather', data=data, ax=axs[0])\n",
    "seaborn.barplot(x='season', y='count', hue='holiday', data=data, ax=axs[1])\n",
    "\n",
    "plt.savefig(\"plots/bikesharing_analysis.png\")\n",
    "plt.close()"
   ],
   "metadata": {
    "collapsed": false,
    "ExecuteTime": {
     "end_time": "2023-08-08T19:44:52.634347Z",
     "start_time": "2023-08-08T19:44:50.427739500Z"
    }
   }
  },
  {
   "cell_type": "markdown",
   "source": [
    "![Dataset analysis](./plots/bikesharing_analysis.png)"
   ],
   "metadata": {
    "collapsed": false
   }
  },
  {
   "cell_type": "code",
   "execution_count": 5,
   "outputs": [],
   "source": [
    "features = data[['registered', 'holiday', 'workingday', 'weather', 'temp', 'atemp', 'season']]\n",
    "labels = data[['count']]"
   ],
   "metadata": {
    "collapsed": false,
    "ExecuteTime": {
     "end_time": "2023-08-08T19:44:52.635346300Z",
     "start_time": "2023-08-08T19:44:52.607808600Z"
    }
   }
  },
  {
   "cell_type": "code",
   "execution_count": 6,
   "outputs": [],
   "source": [
    "# Split the dataset into training and validation sets\n",
    "x_train, x_test, y_train, y_test = sklearn.model_selection.train_test_split(features, labels, test_size=0.2)\n",
    "\n",
    "x_train_tensor = torch.tensor(x_train.values, dtype=default_dtype)\n",
    "x_test_tensor = torch.tensor(x_test.values, dtype=default_dtype)\n",
    "y_train_tensor = torch.tensor(y_train.values, dtype=default_dtype)\n",
    "y_test_tensor  = torch.tensor(y_test.values, dtype=default_dtype)\n",
    "\n",
    "train_data = data_utils.TensorDataset(x_train_tensor, y_train_tensor)\n",
    "train_loader = data_utils.DataLoader(train_data, batch_size=1000, shuffle=True, generator=torch.Generator(device=default_device))"
   ],
   "metadata": {
    "collapsed": false,
    "ExecuteTime": {
     "end_time": "2023-08-08T19:44:55.500173100Z",
     "start_time": "2023-08-08T19:44:52.626819Z"
    }
   }
  },
  {
   "cell_type": "code",
   "execution_count": 7,
   "outputs": [],
   "source": [
    "input_layer = x_train_tensor.shape[1]\n",
    "hidden_layer = 100\n",
    "output_layer = 1\n",
    "learning_rate = 1e-4\n",
    "epochs = 1_000\n",
    "\n",
    "model = torch.nn.Sequential(torch.nn.Linear(input_layer, hidden_layer), torch.nn.ReLU(), torch.nn.Linear(hidden_layer, output_layer))\n",
    "cost_function = torch.nn.MSELoss()\n",
    "optimizer = torch.optim.Adam(model.parameters(), lr=learning_rate)\n",
    "\n",
    "for i in range(epochs):\n",
    "    epoch_id = i + 1\n",
    "\n",
    "    for (f, l) in train_loader:\n",
    "        predicted = model(f)\n",
    "        loss = cost_function(predicted, l)\n",
    "\n",
    "        optimizer.zero_grad()\n",
    "        loss.backward()\n",
    "        optimizer.step()\n"
   ],
   "metadata": {
    "collapsed": false,
    "ExecuteTime": {
     "end_time": "2023-08-08T19:47:57.095924100Z",
     "start_time": "2023-08-08T19:44:55.511173800Z"
    }
   }
  },
  {
   "cell_type": "code",
   "execution_count": 8,
   "outputs": [
    {
     "name": "stdout",
     "output_type": "stream",
     "text": [
      "Model was evaluated with score of 0.9634825954717303\n"
     ]
    }
   ],
   "source": [
    "model.eval()\n",
    "\n",
    "with torch.no_grad():\n",
    "    final_prediction = numpy.array(model(x_test_tensor).detach().cpu())\n",
    "\n",
    "score = sklearn.metrics.r2_score(y_test, final_prediction)\n",
    "print(f\"Model was evaluated with score of {score}\")\n",
    "\n",
    "plt.scatter(y_test.values, final_prediction, s=20)\n",
    "plt.xlabel(\"Actual count\")\n",
    "plt.ylabel(\"Predicted count\")\n",
    "\n",
    "plt.savefig(\"plots/bikesharing_result.png\")\n",
    "plt.close()"
   ],
   "metadata": {
    "collapsed": false,
    "ExecuteTime": {
     "end_time": "2023-08-08T19:47:57.334191200Z",
     "start_time": "2023-08-08T19:47:57.104920300Z"
    }
   }
  },
  {
   "cell_type": "markdown",
   "source": [
    "![Result](./plots/bikesharing_result.png)"
   ],
   "metadata": {
    "collapsed": false
   }
  }
 ],
 "metadata": {
  "kernelspec": {
   "display_name": "Python 3",
   "language": "python",
   "name": "python3"
  },
  "language_info": {
   "codemirror_mode": {
    "name": "ipython",
    "version": 2
   },
   "file_extension": ".py",
   "mimetype": "text/x-python",
   "name": "python",
   "nbconvert_exporter": "python",
   "pygments_lexer": "ipython2",
   "version": "2.7.6"
  }
 },
 "nbformat": 4,
 "nbformat_minor": 0
}
