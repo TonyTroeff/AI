{
 "cells": [
  {
   "cell_type": "code",
   "execution_count": 1,
   "metadata": {
    "collapsed": true,
    "ExecuteTime": {
     "end_time": "2023-08-08T19:49:29.522880200Z",
     "start_time": "2023-08-08T19:49:26.342329400Z"
    }
   },
   "outputs": [],
   "source": [
    "import torch\n",
    "import numpy\n",
    "import matplotlib.pyplot as plt"
   ]
  },
  {
   "cell_type": "code",
   "execution_count": 2,
   "outputs": [],
   "source": [
    "torch.set_default_dtype(torch.float64)\n",
    "if torch.cuda.is_available():\n",
    "    torch.set_default_device(\"cuda\")"
   ],
   "metadata": {
    "collapsed": false,
    "ExecuteTime": {
     "end_time": "2023-08-08T19:49:29.588409400Z",
     "start_time": "2023-08-08T19:49:29.526880900Z"
    }
   }
  },
  {
   "cell_type": "code",
   "execution_count": 3,
   "outputs": [],
   "source": [
    "TEST_DATA_SIZE = 100\n",
    "X = numpy.sort(numpy.random.rand(TEST_DATA_SIZE, 1), axis=0)\n",
    "Y = numpy.random.rand(TEST_DATA_SIZE, 1)"
   ],
   "metadata": {
    "collapsed": false,
    "ExecuteTime": {
     "end_time": "2023-08-08T19:49:29.602402700Z",
     "start_time": "2023-08-08T19:49:29.589408200Z"
    }
   }
  },
  {
   "cell_type": "code",
   "execution_count": 4,
   "outputs": [],
   "source": [
    "input_layer = 1\n",
    "output_layer = 1\n",
    "learning_rate = 1e-5\n",
    "\n",
    "def train(hidden_layer: int, epochs: int, print_debug_info: bool = False) -> None:\n",
    "    title = f\"Training a 2D regression model with {hidden_layer} neurons within the hidden layer after {epochs} epochs\"\n",
    "    print(title)\n",
    "    \n",
    "    x_tensor = torch.tensor(X)\n",
    "    y_tensor = torch.tensor(Y)\n",
    "\n",
    "    model = torch.nn.Sequential(torch.nn.Linear(input_layer, hidden_layer), torch.nn.ReLU(), torch.nn.Linear(hidden_layer, output_layer))\n",
    "    cost_func = torch.nn.MSELoss(reduction=\"sum\")\n",
    "    optimizer = torch.optim.SGD(model.parameters(), lr=learning_rate)\n",
    "\n",
    "    for i in range(epochs):\n",
    "        predicted = model(x_tensor)\n",
    "\n",
    "        loss = cost_func(predicted, y_tensor)\n",
    "\n",
    "        if print_debug_info:\n",
    "            iteration_id = i + 1\n",
    "            if iteration_id % 1000 == 0:\n",
    "                print(f\"Info at epoch #{iteration_id}:\")\n",
    "                print(f\"Loss: {loss.item()}\")\n",
    "\n",
    "        optimizer.zero_grad()\n",
    "        loss.backward()\n",
    "        optimizer.step()\n",
    "\n",
    "    final_prediction = numpy.array(model(x_tensor).detach().cpu())\n",
    "\n",
    "    plt.title(title)\n",
    "    plt.scatter(X, Y)\n",
    "    plt.plot(X, final_prediction)\n",
    "    plt.savefig(f\"plots/simple_seq_{hidden_layer}_{epochs}.png\", bbox_inches='tight')\n",
    "    plt.close()"
   ],
   "metadata": {
    "collapsed": false,
    "ExecuteTime": {
     "end_time": "2023-08-08T19:49:29.633410500Z",
     "start_time": "2023-08-08T19:49:29.612401400Z"
    }
   }
  },
  {
   "cell_type": "code",
   "execution_count": 5,
   "outputs": [
    {
     "name": "stdout",
     "output_type": "stream",
     "text": [
      "Training a 2D regression model with 1 neurons within the hidden layer after 5000 epochs\n",
      "Info at epoch #1000:\n",
      "Loss: 7.81913145552731\n",
      "Info at epoch #2000:\n",
      "Loss: 7.485972437687663\n",
      "Info at epoch #3000:\n",
      "Loss: 7.481019153396254\n",
      "Info at epoch #4000:\n",
      "Loss: 7.480942567457234\n",
      "Info at epoch #5000:\n",
      "Loss: 7.480941170343967\n",
      "Training a 2D regression model with 10 neurons within the hidden layer after 5000 epochs\n",
      "Info at epoch #1000:\n",
      "Loss: 7.553966916738803\n",
      "Info at epoch #2000:\n",
      "Loss: 7.5042663393765725\n",
      "Info at epoch #3000:\n",
      "Loss: 7.480548690448053\n",
      "Info at epoch #4000:\n",
      "Loss: 7.468376164092982\n",
      "Info at epoch #5000:\n",
      "Loss: 7.4620205361083265\n",
      "Training a 2D regression model with 100 neurons within the hidden layer after 5000 epochs\n",
      "Info at epoch #1000:\n",
      "Loss: 7.433601240204165\n",
      "Info at epoch #2000:\n",
      "Loss: 7.425020957674921\n",
      "Info at epoch #3000:\n",
      "Loss: 7.417094325064786\n",
      "Info at epoch #4000:\n",
      "Loss: 7.40931339476461\n",
      "Info at epoch #5000:\n",
      "Loss: 7.401632426093164\n",
      "Training a 2D regression model with 1000 neurons within the hidden layer after 5000 epochs\n",
      "Info at epoch #1000:\n",
      "Loss: 7.472847368337933\n",
      "Info at epoch #2000:\n",
      "Loss: 7.4263754958086725\n",
      "Info at epoch #3000:\n",
      "Loss: 7.388338668867162\n",
      "Info at epoch #4000:\n",
      "Loss: 7.355483257999849\n",
      "Info at epoch #5000:\n",
      "Loss: 7.326181285162491\n"
     ]
    }
   ],
   "source": [
    "train(1, 5_000, print_debug_info=True)\n",
    "train(10, 5_000, print_debug_info=True)\n",
    "train(100, 5_000, print_debug_info=True)\n",
    "train(1000, 5_000, print_debug_info=True)"
   ],
   "metadata": {
    "collapsed": false,
    "ExecuteTime": {
     "end_time": "2023-08-08T19:50:15.215822300Z",
     "start_time": "2023-08-08T19:49:29.637405800Z"
    }
   }
  },
  {
   "cell_type": "markdown",
   "source": [
    "![Simple sequential model with 1 hidden neuron and 5000 epochs](./plots/simple_seq_1_5000.png)\n",
    "![Simple sequential model with 10 hidden neuron and 5000 epochs](./plots/simple_seq_10_5000.png)\n",
    "![Simple sequential model with 100 hidden neuron and 5000 epochs](./plots/simple_seq_100_5000.png)\n",
    "![Simple sequential model with 1000 hidden neuron and 5000 epochs](./plots/simple_seq_1000_5000.png)"
   ],
   "metadata": {
    "collapsed": false
   }
  }
 ],
 "metadata": {
  "kernelspec": {
   "display_name": "Python 3",
   "language": "python",
   "name": "python3"
  },
  "language_info": {
   "codemirror_mode": {
    "name": "ipython",
    "version": 2
   },
   "file_extension": ".py",
   "mimetype": "text/x-python",
   "name": "python",
   "nbconvert_exporter": "python",
   "pygments_lexer": "ipython2",
   "version": "2.7.6"
  }
 },
 "nbformat": 4,
 "nbformat_minor": 0
}
