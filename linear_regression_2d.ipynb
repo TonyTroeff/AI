{
 "cells": [
  {
   "cell_type": "code",
   "execution_count": null,
   "metadata": {
    "collapsed": true,
    "is_executing": true
   },
   "outputs": [],
   "source": [
    "import torch\n",
    "import numpy\n",
    "import matplotlib.pyplot as plt"
   ]
  },
  {
   "cell_type": "code",
   "execution_count": null,
   "outputs": [],
   "source": [
    "TEST_DATA_SIZE = 100\n",
    "X = numpy.random.rand(TEST_DATA_SIZE, 1)\n",
    "Y = numpy.random.rand(TEST_DATA_SIZE, 1)"
   ],
   "metadata": {
    "collapsed": false
   }
  },
  {
   "cell_type": "code",
   "execution_count": null,
   "outputs": [],
   "source": [
    "input_layer = 1\n",
    "output_layer = 1\n",
    "learning_rate = 1e-5\n",
    "\n",
    "def train(hidden_layer: int, epochs: int, print_debug_info: bool = False) -> None:\n",
    "    device = \"cuda\" if torch.cuda.is_available() else \"cpu\"\n",
    "\n",
    "    x_tensor = torch.tensor(X, device=device, dtype=torch.float64)\n",
    "    y_tensor = torch.tensor(Y, device=device, dtype=torch.float64)\n",
    "\n",
    "    weights_layer1 = torch.rand(input_layer, hidden_layer, requires_grad=True, device=device, dtype=torch.float64)\n",
    "    biases_layer1 = torch.rand(hidden_layer, requires_grad=True, device=device, dtype=torch.float64)\n",
    "    weights_layer2 = torch.rand(hidden_layer, output_layer, requires_grad=True, device=device, dtype=torch.float64)\n",
    "    biases_layer2 = torch.rand(output_layer, requires_grad=True, device=device, dtype=torch.float64)\n",
    "\n",
    "    def predict() -> torch.Tensor:\n",
    "        return (x_tensor @ weights_layer1 + biases_layer1) @ weights_layer2 + biases_layer2\n",
    "\n",
    "    for i in range(epochs):\n",
    "        predicted = predict()\n",
    "        loss = torch.sum(torch.pow(torch.sub(y_tensor, predicted), 2))\n",
    "\n",
    "        if print_debug_info:\n",
    "            iteration_id = i + 1\n",
    "            if iteration_id % 500 == 0:\n",
    "                print(f\"Info at epoch #{iteration_id}:\")\n",
    "                print(f\"Loss: {loss.item()}\")\n",
    "\n",
    "        loss.backward()\n",
    "\n",
    "        with torch.no_grad():\n",
    "            weights_layer1 -= learning_rate * weights_layer1.grad\n",
    "            biases_layer1 -= learning_rate * biases_layer1.grad\n",
    "            weights_layer2 -= learning_rate * weights_layer2.grad\n",
    "            biases_layer2 -= learning_rate * biases_layer2.grad\n",
    "\n",
    "            weights_layer1.grad = None\n",
    "            biases_layer1.grad = None\n",
    "            weights_layer2.grad = None\n",
    "            biases_layer2.grad = None\n",
    "\n",
    "    final_prediction = numpy.array(predict().detach().cpu())\n",
    "\n",
    "    plt.title(f\"Training a 2D regression model with {hidden_layer} neurons within the hidden layer after {epochs} epochs\")\n",
    "    plt.scatter(X, Y)\n",
    "    plt.plot(X, final_prediction)\n",
    "    plt.show()"
   ],
   "metadata": {
    "collapsed": false
   }
  },
  {
   "cell_type": "code",
   "execution_count": null,
   "outputs": [],
   "source": [
    "train(1, 5_000, print_debug_info=True)\n",
    "train(10, 5_000, print_debug_info=True)\n",
    "train(100, 5_000, print_debug_info=True)\n"
   ],
   "metadata": {
    "collapsed": false
   }
  }
 ],
 "metadata": {
  "kernelspec": {
   "display_name": "Python 3",
   "language": "python",
   "name": "python3"
  },
  "language_info": {
   "codemirror_mode": {
    "name": "ipython",
    "version": 2
   },
   "file_extension": ".py",
   "mimetype": "text/x-python",
   "name": "python",
   "nbconvert_exporter": "python",
   "pygments_lexer": "ipython2",
   "version": "2.7.6"
  }
 },
 "nbformat": 4,
 "nbformat_minor": 0
}
