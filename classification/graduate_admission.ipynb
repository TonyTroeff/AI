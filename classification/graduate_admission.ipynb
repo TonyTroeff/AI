{
 "cells": [
  {
   "cell_type": "code",
   "execution_count": 1,
   "metadata": {
    "collapsed": true,
    "ExecuteTime": {
     "end_time": "2023-10-02T18:18:01.252091100Z",
     "start_time": "2023-10-02T18:17:57.580330600Z"
    }
   },
   "outputs": [],
   "source": [
    "from typing import Callable\n",
    "\n",
    "import torch\n",
    "import matplotlib.pyplot as plt\n",
    "import seaborn\n",
    "from sklearn.model_selection import train_test_split\n",
    "from sklearn.preprocessing import scale as preprocessing_scale\n",
    "import pandas"
   ]
  },
  {
   "cell_type": "code",
   "execution_count": 2,
   "outputs": [],
   "source": [
    "default_dtype = torch.float64\n",
    "torch.set_default_dtype(default_dtype)\n",
    "\n",
    "default_device = \"cpu\"\n",
    "if torch.cuda.is_available():\n",
    "    default_device = \"cuda\"\n",
    "\n",
    "torch.set_default_device(default_device)"
   ],
   "metadata": {
    "collapsed": false,
    "ExecuteTime": {
     "end_time": "2023-10-02T18:18:01.314875Z",
     "start_time": "2023-10-02T18:18:01.295767500Z"
    }
   }
  },
  {
   "cell_type": "code",
   "execution_count": 3,
   "outputs": [
    {
     "data": {
      "text/plain": "               id         GRE       TOEFL  university_rating         SOP  \\\ncount  400.000000  400.000000  400.000000         400.000000  400.000000   \nmean   200.500000  316.807500  107.410000           3.087500    3.400000   \nstd    115.614301   11.473646    6.069514           1.143728    1.006869   \nmin      1.000000  290.000000   92.000000           1.000000    1.000000   \n25%    100.750000  308.000000  103.000000           2.000000    2.500000   \n50%    200.500000  317.000000  107.000000           3.000000    3.500000   \n75%    300.250000  325.000000  112.000000           4.000000    4.000000   \nmax    400.000000  340.000000  120.000000           5.000000    5.000000   \n\n              LOR        CGPA  has_research       score  \ncount  400.000000  400.000000    400.000000  400.000000  \nmean     3.452500    8.598925      0.547500    0.724350  \nstd      0.898478    0.596317      0.498362    0.142609  \nmin      1.000000    6.800000      0.000000    0.340000  \n25%      3.000000    8.170000      0.000000    0.640000  \n50%      3.500000    8.610000      1.000000    0.730000  \n75%      4.000000    9.062500      1.000000    0.830000  \nmax      5.000000    9.920000      1.000000    0.970000  ",
      "text/html": "<div>\n<style scoped>\n    .dataframe tbody tr th:only-of-type {\n        vertical-align: middle;\n    }\n\n    .dataframe tbody tr th {\n        vertical-align: top;\n    }\n\n    .dataframe thead th {\n        text-align: right;\n    }\n</style>\n<table border=\"1\" class=\"dataframe\">\n  <thead>\n    <tr style=\"text-align: right;\">\n      <th></th>\n      <th>id</th>\n      <th>GRE</th>\n      <th>TOEFL</th>\n      <th>university_rating</th>\n      <th>SOP</th>\n      <th>LOR</th>\n      <th>CGPA</th>\n      <th>has_research</th>\n      <th>score</th>\n    </tr>\n  </thead>\n  <tbody>\n    <tr>\n      <th>count</th>\n      <td>400.000000</td>\n      <td>400.000000</td>\n      <td>400.000000</td>\n      <td>400.000000</td>\n      <td>400.000000</td>\n      <td>400.000000</td>\n      <td>400.000000</td>\n      <td>400.000000</td>\n      <td>400.000000</td>\n    </tr>\n    <tr>\n      <th>mean</th>\n      <td>200.500000</td>\n      <td>316.807500</td>\n      <td>107.410000</td>\n      <td>3.087500</td>\n      <td>3.400000</td>\n      <td>3.452500</td>\n      <td>8.598925</td>\n      <td>0.547500</td>\n      <td>0.724350</td>\n    </tr>\n    <tr>\n      <th>std</th>\n      <td>115.614301</td>\n      <td>11.473646</td>\n      <td>6.069514</td>\n      <td>1.143728</td>\n      <td>1.006869</td>\n      <td>0.898478</td>\n      <td>0.596317</td>\n      <td>0.498362</td>\n      <td>0.142609</td>\n    </tr>\n    <tr>\n      <th>min</th>\n      <td>1.000000</td>\n      <td>290.000000</td>\n      <td>92.000000</td>\n      <td>1.000000</td>\n      <td>1.000000</td>\n      <td>1.000000</td>\n      <td>6.800000</td>\n      <td>0.000000</td>\n      <td>0.340000</td>\n    </tr>\n    <tr>\n      <th>25%</th>\n      <td>100.750000</td>\n      <td>308.000000</td>\n      <td>103.000000</td>\n      <td>2.000000</td>\n      <td>2.500000</td>\n      <td>3.000000</td>\n      <td>8.170000</td>\n      <td>0.000000</td>\n      <td>0.640000</td>\n    </tr>\n    <tr>\n      <th>50%</th>\n      <td>200.500000</td>\n      <td>317.000000</td>\n      <td>107.000000</td>\n      <td>3.000000</td>\n      <td>3.500000</td>\n      <td>3.500000</td>\n      <td>8.610000</td>\n      <td>1.000000</td>\n      <td>0.730000</td>\n    </tr>\n    <tr>\n      <th>75%</th>\n      <td>300.250000</td>\n      <td>325.000000</td>\n      <td>112.000000</td>\n      <td>4.000000</td>\n      <td>4.000000</td>\n      <td>4.000000</td>\n      <td>9.062500</td>\n      <td>1.000000</td>\n      <td>0.830000</td>\n    </tr>\n    <tr>\n      <th>max</th>\n      <td>400.000000</td>\n      <td>340.000000</td>\n      <td>120.000000</td>\n      <td>5.000000</td>\n      <td>5.000000</td>\n      <td>5.000000</td>\n      <td>9.920000</td>\n      <td>1.000000</td>\n      <td>0.970000</td>\n    </tr>\n  </tbody>\n</table>\n</div>"
     },
     "execution_count": 3,
     "metadata": {},
     "output_type": "execute_result"
    }
   ],
   "source": [
    "data = pandas.read_csv('../datasets/graduate_admission.csv')\n",
    "data.describe()"
   ],
   "metadata": {
    "collapsed": false,
    "ExecuteTime": {
     "end_time": "2023-10-02T18:18:01.396908100Z",
     "start_time": "2023-10-02T18:18:01.318874200Z"
    }
   }
  },
  {
   "cell_type": "code",
   "execution_count": 4,
   "outputs": [],
   "source": [
    "_, axs = plt.subplots(nrows=1, ncols=3, figsize=(15, 5))\n",
    "\n",
    "seaborn.regplot(x=\"GRE\", y=\"TOEFL\", data=data, ax=axs[0])\n",
    "axs[0].set_title(\"Relationship between GRE and TOEFL scores\")\n",
    "\n",
    "seaborn.regplot(x=\"GRE\", y=\"CGPA\", data=data, ax=axs[1])\n",
    "axs[1].set_title(\"Relationship between GRE and CGPA scores\")\n",
    "\n",
    "seaborn.scatterplot(x=\"CGPA\", y=\"score\", hue=\"has_research\", data=data, ax=axs[2])\n",
    "axs[2].set_title(\"Relationship between CGPA and Admit probability\")\n",
    "\n",
    "plt.savefig(\"plots/graduate_admission_data_relationships.png\", bbox_inches=\"tight\")\n",
    "plt.close()"
   ],
   "metadata": {
    "collapsed": false,
    "ExecuteTime": {
     "end_time": "2023-10-02T18:18:04.393131500Z",
     "start_time": "2023-10-02T18:18:01.401168400Z"
    }
   }
  },
  {
   "cell_type": "markdown",
   "source": [
    "![Relationships between data](./plots/graduate_admission_data_relationships.png)"
   ],
   "metadata": {
    "collapsed": false
   }
  },
  {
   "cell_type": "code",
   "execution_count": 5,
   "outputs": [],
   "source": [
    "plt.figure()\n",
    "seaborn.heatmap(data.corr(), annot=True, fmt='.2f')\n",
    "plt.savefig(\"plots/graduate_admission_heatmap.png\", bbox_inches=\"tight\")\n",
    "plt.close()"
   ],
   "metadata": {
    "collapsed": false,
    "ExecuteTime": {
     "end_time": "2023-10-02T18:18:05.475232Z",
     "start_time": "2023-10-02T18:18:04.399657Z"
    }
   }
  },
  {
   "cell_type": "markdown",
   "source": [
    "![Heatmap](./plots/graduate_admission_heatmap.png)"
   ],
   "metadata": {
    "collapsed": false
   }
  },
  {
   "cell_type": "code",
   "execution_count": 6,
   "outputs": [],
   "source": [
    "# Subtract the mean and divide by the standard deviation\n",
    "# It is found that neural networks perform better in training and prediction when they work with standardized features.\n",
    "feature_columns = ['GRE', 'TOEFL', 'SOP', 'LOR', 'CGPA']\n",
    "features = preprocessing_scale(data[feature_columns])\n",
    "\n",
    "category_bounds = [0, 0.59, 0.79, 1]\n",
    "category_labels = [0, 1, 2]\n",
    "labels = pandas.cut(data['score'], category_bounds, labels=category_labels)"
   ],
   "metadata": {
    "collapsed": false,
    "ExecuteTime": {
     "end_time": "2023-10-02T18:18:05.535149600Z",
     "start_time": "2023-10-02T18:18:05.479415500Z"
    }
   }
  },
  {
   "cell_type": "code",
   "execution_count": 7,
   "outputs": [],
   "source": [
    "x_train, x_test, y_train, y_test = train_test_split(features, labels.values, test_size=0.2)\n",
    "\n",
    "x_train_tensor = torch.tensor(x_train, dtype=default_dtype)\n",
    "x_test_tensor = torch.tensor(x_test, dtype=default_dtype)\n",
    "y_train_tensor = torch.tensor(y_train, dtype=torch.int64)\n",
    "y_test_tensor = torch.tensor(y_test, dtype=torch.int64)"
   ],
   "metadata": {
    "collapsed": false,
    "ExecuteTime": {
     "end_time": "2023-10-02T18:18:05.693269Z",
     "start_time": "2023-10-02T18:18:05.509269Z"
    }
   }
  },
  {
   "cell_type": "code",
   "execution_count": 8,
   "outputs": [],
   "source": [
    "input_size = x_train_tensor.shape[1]\n",
    "output_size = len(category_labels)\n",
    "\n",
    "class Network(torch.nn.Module):\n",
    "    def __init__(self, hidden_size: int, activation_func: Callable[[torch.Tensor], torch.Tensor] = torch.nn.functional.relu, dropout: float = 0):\n",
    "        super(Network, self).__init__()\n",
    "\n",
    "        self.layer1 = torch.nn.Linear(input_size, hidden_size)\n",
    "        self.layer2 = torch.nn.Linear(hidden_size, hidden_size)\n",
    "        self.layer3 = torch.nn.Linear(hidden_size, output_size)\n",
    "\n",
    "        self.activation_func = activation_func\n",
    "        self.hidden_size = hidden_size\n",
    "        self.dropout = None if dropout == 0 else torch.nn.Dropout(dropout)\n",
    "\n",
    "    def forward(self, x: torch.Tensor):\n",
    "        x = self.activation_func(self.layer1(x))\n",
    "        x = self.activation_func(self.layer2(x))\n",
    "\n",
    "        if self.dropout is not None:\n",
    "            x = self.dropout(x)\n",
    "\n",
    "        x = self.layer3(x)\n",
    "        return torch.nn.functional.log_softmax(x, dim=-1)"
   ],
   "metadata": {
    "collapsed": false,
    "ExecuteTime": {
     "end_time": "2023-10-02T18:18:05.714864600Z",
     "start_time": "2023-10-02T18:18:05.701793900Z"
    }
   }
  },
  {
   "cell_type": "code",
   "execution_count": 9,
   "outputs": [],
   "source": [
    "def visualize_training_process(plot_name: str, epoch_data) -> None:\n",
    "    ed_fig, ed_axs = plt.subplots(nrows=1,ncols=2,figsize=(10,5))\n",
    "\n",
    "    epoch_data_df = pandas.DataFrame(epoch_data, columns=[\"train_loss\", \"test_loss\", \"test_accuracy\"])\n",
    "    epoch_data_df[[\"train_loss\", \"test_loss\"]].plot(ax=ed_axs[0])\n",
    "    epoch_data_df[[\"test_accuracy\"]].plot(ax=ed_axs[1])\n",
    "\n",
    "    plt.savefig(f\"plots/{plot_name}.png\", bbox_inches=\"tight\")\n",
    "    plt.close()"
   ],
   "metadata": {
    "collapsed": false,
    "ExecuteTime": {
     "end_time": "2023-10-02T18:18:05.771095Z",
     "start_time": "2023-10-02T18:18:05.712318600Z"
    }
   }
  },
  {
   "cell_type": "code",
   "execution_count": 10,
   "outputs": [],
   "source": [
    "def train_model(model: torch.nn.Module, plot_name: str, epochs = 10000, learning_rate = 1e-4):\n",
    "    optimizer = torch.optim.Adam(model.parameters(), lr=learning_rate)\n",
    "    cost_func = torch.nn.NLLLoss()\n",
    "\n",
    "    epoch_data = []\n",
    "    for i in range(epochs):\n",
    "        optimizer.zero_grad()\n",
    "\n",
    "        model.train()\n",
    "        train_prediction = model(x_train_tensor)\n",
    "        train_loss = cost_func(train_prediction, y_train_tensor)\n",
    "        train_loss.backward()\n",
    "\n",
    "        optimizer.step()\n",
    "\n",
    "        model.eval()\n",
    "        eval_prediction = model(x_test_tensor)\n",
    "        test_loss = cost_func(eval_prediction, y_test_tensor)\n",
    "\n",
    "        max_values, max_indices = torch.max(eval_prediction, dim=1)\n",
    "        test_accuracy = torch.sum(torch.eq(max_indices, y_test_tensor)).item() / y_test.size\n",
    "\n",
    "        epoch_data.append([train_loss.item(), test_loss.item(), test_accuracy])\n",
    "\n",
    "    visualize_training_process(plot_name, epoch_data)"
   ],
   "metadata": {
    "collapsed": false,
    "ExecuteTime": {
     "end_time": "2023-10-02T18:18:05.772058400Z",
     "start_time": "2023-10-02T18:18:05.734432300Z"
    }
   }
  },
  {
   "cell_type": "code",
   "execution_count": 11,
   "outputs": [
    {
     "name": "stdout",
     "output_type": "stream",
     "text": [
      "Hidden size: 100, Activation function: sigmoid, No dropout\n"
     ]
    }
   ],
   "source": [
    "print('Hidden size: 100, Activation function: sigmoid, No dropout')\n",
    "network1 = Network(hidden_size=100, activation_func=torch.nn.functional.sigmoid)\n",
    "train_model(network1, \"graduate_admission_100_sigmoid_0\")"
   ],
   "metadata": {
    "collapsed": false,
    "ExecuteTime": {
     "end_time": "2023-10-02T18:19:20.304701500Z",
     "start_time": "2023-10-02T18:18:05.741445600Z"
    }
   }
  },
  {
   "cell_type": "markdown",
   "source": [
    "![Hidden size: 100, Activation function: sigmoid, No dropout](./plots/graduate_admission_100_sigmoid_0.png)"
   ],
   "metadata": {
    "collapsed": false
   }
  },
  {
   "cell_type": "code",
   "execution_count": 12,
   "outputs": [
    {
     "name": "stdout",
     "output_type": "stream",
     "text": [
      "Hidden size: 100, Activation function: sigmoid, Dropout: 0.2\n"
     ]
    }
   ],
   "source": [
    "print('Hidden size: 100, Activation function: sigmoid, Dropout: 0.2')\n",
    "network2 = Network(hidden_size=100, activation_func=torch.nn.functional.sigmoid, dropout=0.2)\n",
    "train_model(network2, \"graduate_admission_100_sigmoid_2e-1\")"
   ],
   "metadata": {
    "collapsed": false,
    "ExecuteTime": {
     "end_time": "2023-10-02T18:20:22.478919200Z",
     "start_time": "2023-10-02T18:19:20.309713Z"
    }
   }
  },
  {
   "cell_type": "markdown",
   "source": [
    "![Hidden size: 100, Activation function: sigmoid, Dropout: 0.2](./plots/graduate_admission_100_sigmoid_2e-1.png)"
   ],
   "metadata": {
    "collapsed": false
   }
  },
  {
   "cell_type": "code",
   "execution_count": 13,
   "outputs": [
    {
     "name": "stdout",
     "output_type": "stream",
     "text": [
      "Hidden size: 50, Activation function: tanh, No dropout\n"
     ]
    }
   ],
   "source": [
    "print('Hidden size: 50, Activation function: tanh, No dropout')\n",
    "network3 = Network(hidden_size=50, activation_func=torch.nn.functional.tanh)\n",
    "train_model(network3, \"graduate_admission_50_tanh_0\")"
   ],
   "metadata": {
    "collapsed": false,
    "ExecuteTime": {
     "end_time": "2023-10-02T18:21:25.528652200Z",
     "start_time": "2023-10-02T18:20:22.480922600Z"
    }
   }
  },
  {
   "cell_type": "markdown",
   "source": [
    "![Hidden size: 50, Activation function: tanh, No dropout](./plots/graduate_admission_50_tanh_0.png)"
   ],
   "metadata": {
    "collapsed": false
   }
  },
  {
   "cell_type": "code",
   "execution_count": 14,
   "outputs": [
    {
     "name": "stdout",
     "output_type": "stream",
     "text": [
      "Hidden size: 1000, Activation function: tanh, No dropout\n"
     ]
    }
   ],
   "source": [
    "# We should note that if we have a simple dataset but not many records, making a model more complex will not help\n",
    "print('Hidden size: 1000, Activation function: tanh, No dropout')\n",
    "network4 = Network(hidden_size=1000, activation_func=torch.nn.functional.tanh)\n",
    "train_model(network4, \"graduate_admission_1000_tanh_0\")"
   ],
   "metadata": {
    "collapsed": false,
    "ExecuteTime": {
     "end_time": "2023-10-02T18:23:53.540487100Z",
     "start_time": "2023-10-02T18:21:25.531654400Z"
    }
   }
  },
  {
   "cell_type": "markdown",
   "source": [
    "![Hidden size: 1000, Activation function: tanh, No dropout](./plots/graduate_admission_1000_tanh_0.png)"
   ],
   "metadata": {
    "collapsed": false
   }
  },
  {
   "cell_type": "code",
   "execution_count": 15,
   "outputs": [
    {
     "name": "stdout",
     "output_type": "stream",
     "text": [
      "Hidden size: 1000, Activation function: tanh, Dropout: 0.2\n"
     ]
    }
   ],
   "source": [
    "print('Hidden size: 1000, Activation function: tanh, Dropout: 0.2')\n",
    "network5 = Network(hidden_size=1000, activation_func=torch.nn.functional.tanh, dropout=0.2)\n",
    "train_model(network5, \"graduate_admission_1000_tanh_2e-1\")"
   ],
   "metadata": {
    "collapsed": false,
    "ExecuteTime": {
     "end_time": "2023-10-02T18:26:44.788819400Z",
     "start_time": "2023-10-02T18:23:53.544017900Z"
    }
   }
  },
  {
   "cell_type": "markdown",
   "source": [
    "![Hidden size: 1000, Activation function: tanh, Dropout: 0.2](./plots/graduate_admission_1000_tanh_2e-1.png)"
   ],
   "metadata": {
    "collapsed": false
   }
  }
 ],
 "metadata": {
  "kernelspec": {
   "display_name": "Python 3",
   "language": "python",
   "name": "python3"
  },
  "language_info": {
   "codemirror_mode": {
    "name": "ipython",
    "version": 2
   },
   "file_extension": ".py",
   "mimetype": "text/x-python",
   "name": "python",
   "nbconvert_exporter": "python",
   "pygments_lexer": "ipython2",
   "version": "2.7.6"
  }
 },
 "nbformat": 4,
 "nbformat_minor": 0
}
