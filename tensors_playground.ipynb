{
 "cells": [
  {
   "cell_type": "code",
   "execution_count": 1,
   "metadata": {
    "collapsed": true,
    "ExecuteTime": {
     "end_time": "2023-05-18T20:49:31.249808400Z",
     "start_time": "2023-05-18T20:49:28.241268800Z"
    }
   },
   "outputs": [],
   "source": [
    "import torch"
   ]
  },
  {
   "cell_type": "code",
   "execution_count": 2,
   "outputs": [
    {
     "name": "stdout",
     "output_type": "stream",
     "text": [
      "Is CUDA available?\n",
      "True\n"
     ]
    }
   ],
   "source": [
    "print(\"Is CUDA available?\")\n",
    "print(torch.cuda.is_available())"
   ],
   "metadata": {
    "collapsed": false,
    "ExecuteTime": {
     "end_time": "2023-05-18T20:49:31.295239500Z",
     "start_time": "2023-05-18T20:49:31.253810Z"
    }
   }
  },
  {
   "cell_type": "code",
   "execution_count": 3,
   "outputs": [
    {
     "name": "stdout",
     "output_type": "stream",
     "text": [
      "We start with our original data:\n",
      "tensor([1., 2., 3., 4., 5.], device='cuda:0', dtype=torch.float64,\n",
      "       requires_grad=True)\n",
      "tensor([0.5000, 0.6000, 0.7000, 0.8000, 0.9000], device='cuda:0',\n",
      "       dtype=torch.float64, requires_grad=True)\n"
     ]
    }
   ],
   "source": [
    "device = \"cuda\" if torch.cuda.is_available() else \"cpu\"\n",
    "a = torch.tensor([1, 2, 3, 4, 5], device=device, dtype=torch.float64, requires_grad=True)\n",
    "b = torch.tensor([0.5, 0.6, 0.7, 0.8, 0.9], device=device, dtype=torch.float64, requires_grad=True)\n",
    "print(\"We start with our original data:\")\n",
    "print(a)\n",
    "print(b)"
   ],
   "metadata": {
    "collapsed": false,
    "ExecuteTime": {
     "end_time": "2023-05-18T20:49:34.318329300Z",
     "start_time": "2023-05-18T20:49:31.302247200Z"
    }
   }
  },
  {
   "cell_type": "code",
   "execution_count": 4,
   "outputs": [
    {
     "name": "stdout",
     "output_type": "stream",
     "text": [
      "We multiply the two tensors and compute the mean:\n",
      "tensor(2.3000, device='cuda:0', dtype=torch.float64, grad_fn=<MeanBackward0>)\n"
     ]
    }
   ],
   "source": [
    "transformed_data = torch.mul(a, b).mean()\n",
    "print(\"We multiply the two tensors and compute the mean:\")\n",
    "print(transformed_data)"
   ],
   "metadata": {
    "collapsed": false,
    "ExecuteTime": {
     "end_time": "2023-05-18T20:49:34.406267Z",
     "start_time": "2023-05-18T20:49:34.324331300Z"
    }
   }
  },
  {
   "cell_type": "code",
   "execution_count": 5,
   "outputs": [
    {
     "name": "stdout",
     "output_type": "stream",
     "text": [
      "Executed backward propagation.\n"
     ]
    }
   ],
   "source": [
    "transformed_data.backward()\n",
    "print('Executed backward propagation.')"
   ],
   "metadata": {
    "collapsed": false,
    "ExecuteTime": {
     "end_time": "2023-05-18T20:49:34.423487300Z",
     "start_time": "2023-05-18T20:49:34.353546100Z"
    }
   }
  },
  {
   "cell_type": "code",
   "execution_count": 6,
   "outputs": [
    {
     "name": "stdout",
     "output_type": "stream",
     "text": [
      "Let's examine the gradient:\n",
      "tensor([0.1000, 0.1200, 0.1400, 0.1600, 0.1800], device='cuda:0',\n",
      "       dtype=torch.float64)\n",
      "tensor([0.2000, 0.4000, 0.6000, 0.8000, 1.0000], device='cuda:0',\n",
      "       dtype=torch.float64)\n"
     ]
    }
   ],
   "source": [
    "print(\"Let's examine the gradient:\")\n",
    "print(a.grad)\n",
    "print(b.grad)"
   ],
   "metadata": {
    "collapsed": false,
    "ExecuteTime": {
     "end_time": "2023-05-18T20:49:34.423487300Z",
     "start_time": "2023-05-18T20:49:34.368605500Z"
    }
   }
  }
 ],
 "metadata": {
  "kernelspec": {
   "display_name": "Python 3",
   "language": "python",
   "name": "python3"
  },
  "language_info": {
   "codemirror_mode": {
    "name": "ipython",
    "version": 2
   },
   "file_extension": ".py",
   "mimetype": "text/x-python",
   "name": "python",
   "nbconvert_exporter": "python",
   "pygments_lexer": "ipython2",
   "version": "2.7.6"
  }
 },
 "nbformat": 4,
 "nbformat_minor": 0
}
