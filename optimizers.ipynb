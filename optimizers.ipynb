{
 "cells": [
  {
   "cell_type": "markdown",
   "source": [
    "# Basic SGD (Stochastic gradient descend) optimizer:\n",
    "$parameters^{t+1}=parameters^t-learning\\_rate*gradient(\\theta^t)$\n",
    "\n",
    "# Momentum-based optimizer:\n",
    "$momentum\\_vec^t=momentum\\_coeff+learning\\_rate*gradient(\\theta^t) \\\\ parameters^{t+1}=parameters^t-momentum\\_vec$"
   ],
   "metadata": {
    "collapsed": false
   }
  }
 ],
 "metadata": {
  "kernelspec": {
   "display_name": "Python 3",
   "language": "python",
   "name": "python3"
  },
  "language_info": {
   "codemirror_mode": {
    "name": "ipython",
    "version": 2
   },
   "file_extension": ".py",
   "mimetype": "text/x-python",
   "name": "python",
   "nbconvert_exporter": "python",
   "pygments_lexer": "ipython2",
   "version": "2.7.6"
  }
 },
 "nbformat": 4,
 "nbformat_minor": 0
}
